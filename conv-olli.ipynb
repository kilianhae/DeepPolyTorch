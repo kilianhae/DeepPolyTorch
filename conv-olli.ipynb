{
 "cells": [
  {
   "cell_type": "code",
   "execution_count": 1,
   "metadata": {},
   "outputs": [],
   "source": [
    "import torch\n",
    "import numpy as np\n",
    "import time"
   ]
  },
  {
   "cell_type": "code",
   "execution_count": 2,
   "metadata": {},
   "outputs": [
    {
     "name": "stdout",
     "output_type": "stream",
     "text": [
      "torch.Size([3, 2, 1, 1])\n",
      "Output size:  torch.Size([3, 5, 5])\n"
     ]
    }
   ],
   "source": [
    "in_image = torch.randn(2,5,5)\n",
    "nn = torch.nn.Conv2d(2, 3, 1, padding=0, stride=1)\n",
    "\n",
    "out_image = nn(in_image)\n",
    "\n",
    "out_channels = nn.out_channels\n",
    "in_channels = nn.in_channels\n",
    "in_height = in_image.size(1)\n",
    "in_width = in_image.size(2)\n",
    "kernel_size = nn.kernel_size[0]\n",
    "out_height = out_image.size(1)\n",
    "out_width = out_image.size(2)\n",
    "weights = nn.weight.detach()\n",
    "stride = nn.stride[0]\n",
    "padding = nn.padding[0]\n",
    "bias = nn.bias\n",
    "print(weights.size())\n",
    "print(\"Output size: \", out_image.size())"
   ]
  },
  {
   "cell_type": "code",
   "execution_count": 3,
   "metadata": {},
   "outputs": [],
   "source": [
    "def run_their_implementation():\n",
    "    now=time.time()\n",
    "    in_width_p = in_width + padding * 2\n",
    "    in_height_p = in_height + padding * 2\n",
    "\n",
    "    size_p = in_height_p * in_width_p\n",
    "    in_dim = size_p * in_channels\n",
    "    out_dim = out_height * out_width * out_channels\n",
    "    res = torch.zeros((out_dim, in_dim))\n",
    "\n",
    "    # build row fillers\n",
    "    len_rows = (in_channels - 1) * size_p + (kernel_size - 1) * in_width_p + kernel_size\n",
    "    channels = torch.zeros((out_channels, len_rows))\n",
    "\n",
    "    for i_out in range(out_channels):\n",
    "        for i_in in range(in_channels):\n",
    "            i_p = i_in * size_p\n",
    "            for k in range(kernel_size):\n",
    "                start = i_p + k * in_width_p\n",
    "                end = start + kernel_size\n",
    "                channels[i_out, start:end] = weights[i_out, i_in, k]\n",
    "\n",
    "        for i_out_height in range(out_height):\n",
    "            for i_out_width in range(out_width):\n",
    "                start = i_out_height * stride * in_width_p + i_out_width * stride\n",
    "                end = start + len_rows\n",
    "                output = i_out * out_height * out_width + i_out_height * out_width + i_out_width\n",
    "                res[output, start:end] = channels[i_out]\n",
    "\n",
    "    # remove padding\n",
    "    padding_rows = []\n",
    "    for i_in in range(in_channels):\n",
    "        for i_in_height in range(in_height_p):\n",
    "            for i_in_width in range(in_width_p):\n",
    "                if i_in_width < padding or i_in_width >= padding + in_width:\n",
    "                    padding_rows.append(i_in * size_p + i_in_height * in_width_p + i_in_width)\n",
    "\n",
    "            if i_in_height < padding or i_in_height >= padding + in_height:\n",
    "                start = i_in * size_p + i_in_height * in_width_p\n",
    "                end = start + in_width_p\n",
    "                padding_rows = padding_rows + list(range(start, end))\n",
    "\n",
    "    padding_rows = list(np.unique(np.array(padding_rows)))  # delete duplicates\n",
    "\n",
    "    lc = torch.from_numpy(np.delete(res.numpy(), padding_rows, axis=1)).detach()\n",
    "\n",
    "    if bias is None:\n",
    "        ret_bias = torch.zeros(out_width * out_height * out_channels)\n",
    "    else:\n",
    "        ret_bias = torch.repeat_interleave(bias, out_width * out_height)\n",
    "    print(\"Their implementation took: \", time.time()-now)\n",
    "    return lc"
   ]
  },
  {
   "cell_type": "code",
   "execution_count": 106,
   "metadata": {},
   "outputs": [],
   "source": [
    "def run_my_implementation():\n",
    "    now=time.time()\n",
    "\n",
    "    final_matrix = torch.zeros((in_width * in_height * in_channels, out_width * out_height * out_channels))\n",
    "\n",
    "    flattened_weights = weights.flatten()\n",
    "\n",
    "    offset = int((kernel_size - 1) / 2)\n",
    "    kernel_size_kadenz = kernel_size * kernel_size\n",
    "    output_image_kadenz = out_width * out_height\n",
    "    final_matrix_col_indices = torch.zeros(out_width * out_height * out_channels)\n",
    "    final_matrix_weight_indices = torch.zeros(weights.flatten().size())\n",
    "\n",
    "    for channel_in_idx in range(in_channels):\n",
    "        # Only iterate over the ones where the kernel fits\n",
    "        for col_in in range(offset-padding, in_height - offset + padding, stride):\n",
    "            for row_in in range(offset-padding, in_width - offset + padding, stride):\n",
    "                # Indices of the output\n",
    "                col_out = int((col_in - offset + padding)/stride)\n",
    "                row_out = int((row_in - offset + padding)/stride)\n",
    "\n",
    "                #print(\"Channel: \", channel_in_idx, \"Col: \", col_in, \"Row: \", row_in, \"Column out: \", col_out, \"Row out: \", row_out)\n",
    "\n",
    "\n",
    "                # Final matrix column indices is the relative position inside the output image\n",
    "                final_matrix_col_indices.fill_(0)  # Resetting the tensor to zero\n",
    "                first_idx = (col_out) * out_width + row_out\n",
    "                num_elements_to_fill = (len(final_matrix_col_indices) - first_idx) // (output_image_kadenz) + 1\n",
    "                fill_indices = first_idx + torch.arange(num_elements_to_fill) * (output_image_kadenz)\n",
    "                # Clamp fill_indices to the length of final_matrix_col_indices to avoid index out of bounds\n",
    "                fill_indices = fill_indices[fill_indices < len(final_matrix_col_indices)]\n",
    "                # Fill in the tensor\n",
    "                final_matrix_col_indices[fill_indices] = 1\n",
    "\n",
    "                \n",
    "                kernel_count_idx = 0\n",
    "                for kernel_col_idx in range(col_in - offset, col_in + offset + 1):\n",
    "                    for kernel_row_idx in range(row_in - offset, row_in + offset + 1):\n",
    "                        if kernel_col_idx < 0 or kernel_row_idx < 0 or kernel_col_idx >= in_height or kernel_row_idx >= in_width:\n",
    "                            kernel_count_idx += 1\n",
    "                            continue\n",
    "                \n",
    "                        # Final matrix row index is the relative position inside the input image\n",
    "                        final_matrix_row_idx = (kernel_col_idx * in_width + kernel_row_idx) + (channel_in_idx * in_width * in_height)\n",
    "                        #print(\"Final matrix row idx: \", final_matrix_row_idx)\n",
    "\n",
    "                        # Final matrix weight indices is the relative position inside the kernel -> kernel_count_idx\n",
    "                        # It has to be across the channels with kadenz of the kernel size\n",
    "                        final_matrix_weight_indices.fill_(0)  # Resetting the tensor to zero\n",
    "                        num_elements_to_fill = (len(final_matrix_weight_indices) - kernel_count_idx) // (kernel_size_kadenz) + 1\n",
    "                        fill_weight_indices = kernel_count_idx + torch.arange(num_elements_to_fill) * (kernel_size_kadenz)\n",
    "                        # Clamp fill_weight_indices to the length of final_matrix_weight_indices to avoid index out of bounds\n",
    "                        fill_weight_indices = fill_weight_indices[fill_weight_indices < len(final_matrix_weight_indices)]\n",
    "                        # Fill in the tensor\n",
    "                        final_matrix_weight_indices[fill_weight_indices] = 1\n",
    "\n",
    "                        weight_mask = final_matrix_weight_indices == 1\n",
    "                        # Select every in_channel'th element\n",
    "                        weight_mask = torch.arange(len(weight_mask))[weight_mask]\n",
    "                        weight_mask = weight_mask[channel_in_idx::in_channels]\n",
    "                        #print(\"Weight mask: \", weight_mask)\n",
    "                        #print(\"Weights: \", flattened_weights[weight_mask])\n",
    "                        #print(\"Final matrix row idx: \", final_matrix_row_idx)\n",
    "                        #print(\"Final matrix col indices: \", final_matrix_col_indices)\n",
    "                        # Fill the matrix\n",
    "                        final_matrix[final_matrix_row_idx, final_matrix_col_indices == 1] = flattened_weights[weight_mask]\n",
    "\n",
    "                        kernel_count_idx += 1\n",
    "    \n",
    "    print(\"My implementation took: \", time.time()-now)\n",
    "    return final_matrix"
   ]
  },
  {
   "cell_type": "code",
   "execution_count": 116,
   "metadata": {},
   "outputs": [
    {
     "name": "stdout",
     "output_type": "stream",
     "text": [
      "torch.Size([3, 4, 3, 3])\n",
      "Output size:  torch.Size([3, 4, 4])\n",
      "Matrix size:  100 48\n"
     ]
    }
   ],
   "source": [
    "in_image = torch.randn(4,5,5)\n",
    "nn = torch.nn.Conv2d(4, 3, 3, padding=2, stride=2)\n",
    "\n",
    "out_image = nn(in_image)\n",
    "out_channels = nn.out_channels\n",
    "in_channels = nn.in_channels\n",
    "in_height = in_image.size(1)\n",
    "in_width = in_image.size(2)\n",
    "kernel_size = nn.kernel_size[0]\n",
    "out_height = out_image.size(1)\n",
    "out_width = out_image.size(2)\n",
    "weights = nn.weight.detach()\n",
    "stride = nn.stride[0]\n",
    "padding = nn.padding[0]\n",
    "bias = nn.bias\n",
    "print(weights.size())\n",
    "print(\"Output size: \", out_image.size())\n",
    "print(\"Matrix size: \", in_width * in_height * in_channels, out_width * out_height * out_channels)"
   ]
  },
  {
   "cell_type": "code",
   "execution_count": 118,
   "metadata": {},
   "outputs": [
    {
     "name": "stdout",
     "output_type": "stream",
     "text": [
      "Their implementation took:  0.002974987030029297\n",
      "Channel:  0 Col:  -1 Row:  -1 Column out:  0 Row out:  0\n",
      "Channel:  0 Col:  -1 Row:  1 Column out:  0 Row out:  1\n",
      "Channel:  0 Col:  -1 Row:  3 Column out:  0 Row out:  2\n",
      "Channel:  0 Col:  -1 Row:  5 Column out:  0 Row out:  3\n",
      "Channel:  0 Col:  1 Row:  -1 Column out:  1 Row out:  0\n",
      "Channel:  0 Col:  1 Row:  1 Column out:  1 Row out:  1\n",
      "Channel:  0 Col:  1 Row:  3 Column out:  1 Row out:  2\n",
      "Channel:  0 Col:  1 Row:  5 Column out:  1 Row out:  3\n",
      "Channel:  0 Col:  3 Row:  -1 Column out:  2 Row out:  0\n",
      "Channel:  0 Col:  3 Row:  1 Column out:  2 Row out:  1\n",
      "Channel:  0 Col:  3 Row:  3 Column out:  2 Row out:  2\n",
      "Channel:  0 Col:  3 Row:  5 Column out:  2 Row out:  3\n",
      "Channel:  0 Col:  5 Row:  -1 Column out:  3 Row out:  0\n",
      "Channel:  0 Col:  5 Row:  1 Column out:  3 Row out:  1\n",
      "Channel:  0 Col:  5 Row:  3 Column out:  3 Row out:  2\n",
      "Channel:  0 Col:  5 Row:  5 Column out:  3 Row out:  3\n",
      "Channel:  1 Col:  -1 Row:  -1 Column out:  0 Row out:  0\n",
      "Channel:  1 Col:  -1 Row:  1 Column out:  0 Row out:  1\n",
      "Channel:  1 Col:  -1 Row:  3 Column out:  0 Row out:  2\n",
      "Channel:  1 Col:  -1 Row:  5 Column out:  0 Row out:  3\n",
      "Channel:  1 Col:  1 Row:  -1 Column out:  1 Row out:  0\n",
      "Channel:  1 Col:  1 Row:  1 Column out:  1 Row out:  1\n",
      "Channel:  1 Col:  1 Row:  3 Column out:  1 Row out:  2\n",
      "Channel:  1 Col:  1 Row:  5 Column out:  1 Row out:  3\n",
      "Channel:  1 Col:  3 Row:  -1 Column out:  2 Row out:  0\n",
      "Channel:  1 Col:  3 Row:  1 Column out:  2 Row out:  1\n",
      "Channel:  1 Col:  3 Row:  3 Column out:  2 Row out:  2\n",
      "Channel:  1 Col:  3 Row:  5 Column out:  2 Row out:  3\n",
      "Channel:  1 Col:  5 Row:  -1 Column out:  3 Row out:  0\n",
      "Channel:  1 Col:  5 Row:  1 Column out:  3 Row out:  1\n",
      "Channel:  1 Col:  5 Row:  3 Column out:  3 Row out:  2\n",
      "Channel:  1 Col:  5 Row:  5 Column out:  3 Row out:  3\n",
      "Channel:  2 Col:  -1 Row:  -1 Column out:  0 Row out:  0\n",
      "Channel:  2 Col:  -1 Row:  1 Column out:  0 Row out:  1\n",
      "Channel:  2 Col:  -1 Row:  3 Column out:  0 Row out:  2\n",
      "Channel:  2 Col:  -1 Row:  5 Column out:  0 Row out:  3\n",
      "Channel:  2 Col:  1 Row:  -1 Column out:  1 Row out:  0\n",
      "Channel:  2 Col:  1 Row:  1 Column out:  1 Row out:  1\n",
      "Channel:  2 Col:  1 Row:  3 Column out:  1 Row out:  2\n",
      "Channel:  2 Col:  1 Row:  5 Column out:  1 Row out:  3\n",
      "Channel:  2 Col:  3 Row:  -1 Column out:  2 Row out:  0\n",
      "Channel:  2 Col:  3 Row:  1 Column out:  2 Row out:  1\n",
      "Channel:  2 Col:  3 Row:  3 Column out:  2 Row out:  2\n",
      "Channel:  2 Col:  3 Row:  5 Column out:  2 Row out:  3\n",
      "Channel:  2 Col:  5 Row:  -1 Column out:  3 Row out:  0\n",
      "Channel:  2 Col:  5 Row:  1 Column out:  3 Row out:  1\n",
      "Channel:  2 Col:  5 Row:  3 Column out:  3 Row out:  2\n",
      "Channel:  2 Col:  5 Row:  5 Column out:  3 Row out:  3\n",
      "Channel:  3 Col:  -1 Row:  -1 Column out:  0 Row out:  0\n",
      "Channel:  3 Col:  -1 Row:  1 Column out:  0 Row out:  1\n",
      "Channel:  3 Col:  -1 Row:  3 Column out:  0 Row out:  2\n",
      "Channel:  3 Col:  -1 Row:  5 Column out:  0 Row out:  3\n",
      "Channel:  3 Col:  1 Row:  -1 Column out:  1 Row out:  0\n",
      "Channel:  3 Col:  1 Row:  1 Column out:  1 Row out:  1\n",
      "Channel:  3 Col:  1 Row:  3 Column out:  1 Row out:  2\n",
      "Channel:  3 Col:  1 Row:  5 Column out:  1 Row out:  3\n",
      "Channel:  3 Col:  3 Row:  -1 Column out:  2 Row out:  0\n",
      "Channel:  3 Col:  3 Row:  1 Column out:  2 Row out:  1\n",
      "Channel:  3 Col:  3 Row:  3 Column out:  2 Row out:  2\n",
      "Channel:  3 Col:  3 Row:  5 Column out:  2 Row out:  3\n",
      "Channel:  3 Col:  5 Row:  -1 Column out:  3 Row out:  0\n",
      "Channel:  3 Col:  5 Row:  1 Column out:  3 Row out:  1\n",
      "Channel:  3 Col:  5 Row:  3 Column out:  3 Row out:  2\n",
      "Channel:  3 Col:  5 Row:  5 Column out:  3 Row out:  3\n",
      "My implementation took:  0.015584230422973633\n"
     ]
    },
    {
     "data": {
      "text/plain": [
       "True"
      ]
     },
     "execution_count": 118,
     "metadata": {},
     "output_type": "execute_result"
    }
   ],
   "source": [
    "lc = run_their_implementation()\n",
    "lc = lc.transpose(0,1)\n",
    "final_matrix = run_my_implementation()\n",
    "torch.allclose(lc, final_matrix, atol=1e-06, rtol=1e-06)\n",
    "#for row_idx in range(len(lc)):\n",
    "#    if not torch.allclose(lc[row_idx], final_matrix[row_idx], atol=1e-06, rtol=1e-06):\n",
    "#        print(\"Row: \", row_idx)\n",
    "#        print(lc[row_idx])\n",
    "#        print(final_matrix[row_idx])\n",
    "#        print(torch.allclose(lc[row_idx], final_matrix[row_idx], atol=1e-06, rtol=1e-06))"
   ]
  },
  {
   "cell_type": "code",
   "execution_count": 60,
   "metadata": {},
   "outputs": [
    {
     "data": {
      "text/plain": [
       "torch.Size([25, 147])"
      ]
     },
     "execution_count": 60,
     "metadata": {},
     "output_type": "execute_result"
    }
   ],
   "source": [
    "lc.size()"
   ]
  },
  {
   "cell_type": "code",
   "execution_count": 61,
   "metadata": {},
   "outputs": [
    {
     "data": {
      "text/plain": [
       "torch.Size([25, 147])"
      ]
     },
     "execution_count": 61,
     "metadata": {},
     "output_type": "execute_result"
    }
   ],
   "source": [
    "final_matrix.size()"
   ]
  },
  {
   "cell_type": "code",
   "execution_count": 62,
   "metadata": {},
   "outputs": [
    {
     "data": {
      "text/plain": [
       "tensor([-0.2668, -0.2668, -0.2668,  0.0000,  0.0000,  0.0000,  0.0000, -0.2668,\n",
       "        -0.2668, -0.2668,  0.0000,  0.0000,  0.0000,  0.0000, -0.2668, -0.2668,\n",
       "        -0.2668,  0.0000,  0.0000,  0.0000,  0.0000,  0.0000,  0.0000,  0.0000,\n",
       "         0.0000,  0.0000,  0.0000,  0.0000,  0.0000,  0.0000,  0.0000,  0.0000,\n",
       "         0.0000,  0.0000,  0.0000,  0.0000,  0.0000,  0.0000,  0.0000,  0.0000,\n",
       "         0.0000,  0.0000,  0.0000,  0.0000,  0.0000,  0.0000,  0.0000,  0.0000,\n",
       "         0.0000, -0.2002, -0.2002, -0.2002,  0.0000,  0.0000,  0.0000,  0.0000,\n",
       "        -0.2002, -0.2002, -0.2002,  0.0000,  0.0000,  0.0000,  0.0000, -0.2002,\n",
       "        -0.2002, -0.2002,  0.0000,  0.0000,  0.0000,  0.0000,  0.0000,  0.0000,\n",
       "         0.0000,  0.0000,  0.0000,  0.0000,  0.0000,  0.0000,  0.0000,  0.0000,\n",
       "         0.0000,  0.0000,  0.0000,  0.0000,  0.0000,  0.0000,  0.0000,  0.0000,\n",
       "         0.0000,  0.0000,  0.0000,  0.0000,  0.0000,  0.0000,  0.0000,  0.0000,\n",
       "         0.0000,  0.0000,  0.2936,  0.2936,  0.2936,  0.0000,  0.0000,  0.0000,\n",
       "         0.0000,  0.2936,  0.2936,  0.2936,  0.0000,  0.0000,  0.0000,  0.0000,\n",
       "         0.2936,  0.2936,  0.2936,  0.0000,  0.0000,  0.0000,  0.0000,  0.0000,\n",
       "         0.0000,  0.0000,  0.0000,  0.0000,  0.0000,  0.0000,  0.0000,  0.0000,\n",
       "         0.0000,  0.0000,  0.0000,  0.0000,  0.0000,  0.0000,  0.0000,  0.0000,\n",
       "         0.0000,  0.0000,  0.0000,  0.0000,  0.0000,  0.0000,  0.0000,  0.0000,\n",
       "         0.0000,  0.0000,  0.0000])"
      ]
     },
     "execution_count": 62,
     "metadata": {},
     "output_type": "execute_result"
    }
   ],
   "source": [
    "final_matrix[0]"
   ]
  },
  {
   "cell_type": "code",
   "execution_count": 63,
   "metadata": {},
   "outputs": [
    {
     "data": {
      "text/plain": [
       "tensor([-0.0394,  0.1808,  0.0849,  0.0000,  0.0000,  0.0000,  0.0000, -0.1368,\n",
       "        -0.0201,  0.2318,  0.0000,  0.0000,  0.0000,  0.0000,  0.0721, -0.0343,\n",
       "        -0.2668,  0.0000,  0.0000,  0.0000,  0.0000,  0.0000,  0.0000,  0.0000,\n",
       "         0.0000,  0.0000,  0.0000,  0.0000,  0.0000,  0.0000,  0.0000,  0.0000,\n",
       "         0.0000,  0.0000,  0.0000,  0.0000,  0.0000,  0.0000,  0.0000,  0.0000,\n",
       "         0.0000,  0.0000,  0.0000,  0.0000,  0.0000,  0.0000,  0.0000,  0.0000,\n",
       "         0.0000,  0.0103, -0.1317, -0.2827,  0.0000,  0.0000,  0.0000,  0.0000,\n",
       "        -0.2585, -0.0390, -0.1923,  0.0000,  0.0000,  0.0000,  0.0000,  0.1356,\n",
       "         0.1727, -0.2002,  0.0000,  0.0000,  0.0000,  0.0000,  0.0000,  0.0000,\n",
       "         0.0000,  0.0000,  0.0000,  0.0000,  0.0000,  0.0000,  0.0000,  0.0000,\n",
       "         0.0000,  0.0000,  0.0000,  0.0000,  0.0000,  0.0000,  0.0000,  0.0000,\n",
       "         0.0000,  0.0000,  0.0000,  0.0000,  0.0000,  0.0000,  0.0000,  0.0000,\n",
       "         0.0000,  0.0000, -0.2331, -0.2180,  0.2639,  0.0000,  0.0000,  0.0000,\n",
       "         0.0000, -0.0963, -0.1681,  0.1090,  0.0000,  0.0000,  0.0000,  0.0000,\n",
       "        -0.2095,  0.0472,  0.2936,  0.0000,  0.0000,  0.0000,  0.0000,  0.0000,\n",
       "         0.0000,  0.0000,  0.0000,  0.0000,  0.0000,  0.0000,  0.0000,  0.0000,\n",
       "         0.0000,  0.0000,  0.0000,  0.0000,  0.0000,  0.0000,  0.0000,  0.0000,\n",
       "         0.0000,  0.0000,  0.0000,  0.0000,  0.0000,  0.0000,  0.0000,  0.0000,\n",
       "         0.0000,  0.0000,  0.0000])"
      ]
     },
     "execution_count": 63,
     "metadata": {},
     "output_type": "execute_result"
    }
   ],
   "source": [
    "lc[0]"
   ]
  },
  {
   "cell_type": "code",
   "execution_count": 56,
   "metadata": {},
   "outputs": [
    {
     "data": {
      "text/plain": [
       "tensor([-0.1842,  0.1688, -0.2742,  0.0619, -0.2409,  0.2470,  0.0566, -0.2970,\n",
       "        -0.0433, -0.1951, -0.3255,  0.0648,  0.2315,  0.2613,  0.1575,  0.0743,\n",
       "        -0.0922, -0.0474,  0.2592, -0.1582, -0.3085, -0.2735,  0.0195, -0.0584,\n",
       "        -0.1964, -0.1308,  0.2696])"
      ]
     },
     "execution_count": 56,
     "metadata": {},
     "output_type": "execute_result"
    }
   ],
   "source": [
    "weights.flatten()"
   ]
  },
  {
   "cell_type": "code",
   "execution_count": 303,
   "metadata": {},
   "outputs": [
    {
     "data": {
      "text/plain": [
       "tensor([-0.1110,  0.1750, -0.0280, -0.1190,  0.1040,  0.2290, -0.1070,  0.0580,\n",
       "        -0.1630,  0.0610, -0.1210,  0.2310, -0.0050,  0.1360,  0.0930,  0.1820,\n",
       "        -0.0690, -0.0980,  0.1880,  0.1880,  0.0360,  0.1740, -0.0710,  0.1190,\n",
       "         0.2290, -0.1090, -0.0620, -0.0430,  0.1360, -0.1790, -0.0440, -0.0660,\n",
       "        -0.1650, -0.0590,  0.0040,  0.1840,  0.1790, -0.0890, -0.0310,  0.1200,\n",
       "        -0.1570, -0.2080, -0.1040, -0.1940, -0.1690,  0.1290, -0.0350, -0.0760,\n",
       "         0.1770, -0.2070, -0.1460, -0.1580,  0.1880, -0.1750])"
      ]
     },
     "execution_count": 303,
     "metadata": {},
     "output_type": "execute_result"
    }
   ],
   "source": [
    "torch.round(weights.flatten() * 1000) / 1000"
   ]
  },
  {
   "cell_type": "code",
   "execution_count": 222,
   "metadata": {},
   "outputs": [
    {
     "data": {
      "text/plain": [
       "tensor([ True, False,  True, False,  True, False])"
      ]
     },
     "execution_count": 222,
     "metadata": {},
     "output_type": "execute_result"
    }
   ],
   "source": [
    "final_matrix_weight_indices = torch.tensor([-0.0289, -0.1273,  0.0912,  0.1214, -0.1635,  0.0009])\n",
    "torch.arange(len(final_matrix_weight_indices  == 1)) % in_channels == 0"
   ]
  },
  {
   "cell_type": "code",
   "execution_count": null,
   "metadata": {},
   "outputs": [],
   "source": []
  }
 ],
 "metadata": {
  "kernelspec": {
   "display_name": "reliable",
   "language": "python",
   "name": "python3"
  },
  "language_info": {
   "codemirror_mode": {
    "name": "ipython",
    "version": 3
   },
   "file_extension": ".py",
   "mimetype": "text/x-python",
   "name": "python",
   "nbconvert_exporter": "python",
   "pygments_lexer": "ipython3",
   "version": "3.10.10"
  }
 },
 "nbformat": 4,
 "nbformat_minor": 2
}
