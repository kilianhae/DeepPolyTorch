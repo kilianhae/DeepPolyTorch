{
 "cells": [
  {
   "cell_type": "code",
   "execution_count": 2,
   "metadata": {},
   "outputs": [],
   "source": [
    "import torch\n",
    "import numpy as np\n",
    "import time"
   ]
  },
  {
   "cell_type": "code",
   "execution_count": 3,
   "metadata": {},
   "outputs": [
    {
     "name": "stdout",
     "output_type": "stream",
     "text": [
      "torch.Size([3, 2, 1, 1])\n",
      "Output size:  torch.Size([3, 5, 5])\n"
     ]
    }
   ],
   "source": [
    "in_image = torch.randn(2,5,5)\n",
    "nn = torch.nn.Conv2d(2, 3, 1, padding=0, stride=1)\n",
    "\n",
    "out_image = nn(in_image)\n",
    "\n",
    "out_channels = nn.out_channels\n",
    "in_channels = nn.in_channels\n",
    "in_height = in_image.size(1)\n",
    "in_width = in_image.size(2)\n",
    "kernel_size = nn.kernel_size[0]\n",
    "out_height = out_image.size(1)\n",
    "out_width = out_image.size(2)\n",
    "weights = nn.weight.detach()\n",
    "stride = nn.stride[0]\n",
    "padding = nn.padding[0]\n",
    "bias = nn.bias\n",
    "print(weights.size())\n",
    "print(\"Output size: \", out_image.size())"
   ]
  },
  {
   "cell_type": "code",
   "execution_count": 4,
   "metadata": {},
   "outputs": [],
   "source": [
    "def run_their_implementation():\n",
    "    now=time.time()\n",
    "    in_width_p = in_width + padding * 2\n",
    "    in_height_p = in_height + padding * 2\n",
    "\n",
    "    size_p = in_height_p * in_width_p\n",
    "    in_dim = size_p * in_channels\n",
    "    out_dim = out_height * out_width * out_channels\n",
    "    res = torch.zeros((out_dim, in_dim))\n",
    "\n",
    "    # build row fillers\n",
    "    len_rows = (in_channels - 1) * size_p + (kernel_size - 1) * in_width_p + kernel_size\n",
    "    channels = torch.zeros((out_channels, len_rows))\n",
    "\n",
    "    for i_out in range(out_channels):\n",
    "        for i_in in range(in_channels):\n",
    "            i_p = i_in * size_p\n",
    "            for k in range(kernel_size):\n",
    "                start = i_p + k * in_width_p\n",
    "                end = start + kernel_size\n",
    "                channels[i_out, start:end] = weights[i_out, i_in, k]\n",
    "\n",
    "        for i_out_height in range(out_height):\n",
    "            for i_out_width in range(out_width):\n",
    "                start = i_out_height * stride * in_width_p + i_out_width * stride\n",
    "                end = start + len_rows\n",
    "                output = i_out * out_height * out_width + i_out_height * out_width + i_out_width\n",
    "                res[output, start:end] = channels[i_out]\n",
    "\n",
    "    # remove padding\n",
    "    padding_rows = []\n",
    "    for i_in in range(in_channels):\n",
    "        for i_in_height in range(in_height_p):\n",
    "            for i_in_width in range(in_width_p):\n",
    "                if i_in_width < padding or i_in_width >= padding + in_width:\n",
    "                    padding_rows.append(i_in * size_p + i_in_height * in_width_p + i_in_width)\n",
    "\n",
    "            if i_in_height < padding or i_in_height >= padding + in_height:\n",
    "                start = i_in * size_p + i_in_height * in_width_p\n",
    "                end = start + in_width_p\n",
    "                padding_rows = padding_rows + list(range(start, end))\n",
    "\n",
    "    padding_rows = list(np.unique(np.array(padding_rows)))  # delete duplicates\n",
    "\n",
    "    lc = torch.from_numpy(np.delete(res.numpy(), padding_rows, axis=1)).detach()\n",
    "\n",
    "    if bias is None:\n",
    "        ret_bias = torch.zeros(out_width * out_height * out_channels)\n",
    "    else:\n",
    "        ret_bias = torch.repeat_interleave(bias, out_width * out_height)\n",
    "    print(\"Their implementation took: \", time.time()-now)\n",
    "    return lc"
   ]
  },
  {
   "cell_type": "code",
   "execution_count": 114,
   "metadata": {},
   "outputs": [],
   "source": [
    "def run_my_implementation():\n",
    "    now=time.time()\n",
    "\n",
    "    final_matrix = torch.zeros((in_width * in_height * in_channels, out_width * out_height * out_channels))\n",
    "\n",
    "    flattened_weights = weights.flatten()\n",
    "\n",
    "    # Check if kernel size is odd\n",
    "    is_even_kernel = kernel_size % 2 == 0\n",
    "    if is_even_kernel:\n",
    "        offset = int(kernel_size / 2)\n",
    "    else:\n",
    "        offset = int((kernel_size - 1) / 2)\n",
    "    \n",
    "    kernel_size_kadenz = kernel_size * kernel_size\n",
    "    output_image_kadenz = out_width * out_height\n",
    "    final_matrix_col_indices = torch.zeros(out_width * out_height * out_channels)\n",
    "    final_matrix_weight_indices = torch.zeros(weights.flatten().size())\n",
    "\n",
    "    for channel_in_idx in range(in_channels):\n",
    "        # Only iterate over the ones where the kernel fits\n",
    "        top_bound_height = in_height - offset + padding\n",
    "        top_bound_width = in_width - offset + padding\n",
    "        if is_even_kernel:\n",
    "            top_bound_height += 1\n",
    "            top_bound_width += 1\n",
    "        \n",
    "        for col_in in range(offset-padding, top_bound_height, stride):\n",
    "            for row_in in range(offset-padding, top_bound_width, stride):\n",
    "                # Indices of the output\n",
    "                col_out = int((col_in - offset + padding)/stride)\n",
    "                row_out = int((row_in - offset + padding)/stride)\n",
    "\n",
    "\n",
    "                # Final matrix column indices is the relative position inside the output image\n",
    "                final_matrix_col_indices.fill_(0)  # Resetting the tensor to zero\n",
    "                first_idx = (col_out) * out_width + row_out\n",
    "                num_elements_to_fill = (len(final_matrix_col_indices) - first_idx) // (output_image_kadenz) + 1\n",
    "                fill_indices = first_idx + torch.arange(num_elements_to_fill) * (output_image_kadenz)\n",
    "                # Clamp fill_indices to the length of final_matrix_col_indices to avoid index out of bounds\n",
    "                fill_indices = fill_indices[fill_indices < len(final_matrix_col_indices)]\n",
    "                # Fill in the tensor\n",
    "                final_matrix_col_indices[fill_indices] = 1\n",
    "\n",
    "                \n",
    "                kernel_count_idx = 0\n",
    "                top_col_bound = col_in + offset + 1\n",
    "                top_row_bound = row_in + offset + 1\n",
    "                if is_even_kernel:\n",
    "                    top_col_bound -= 1\n",
    "                    top_row_bound -= 1\n",
    "                for kernel_col_idx in range(col_in - offset, top_col_bound):\n",
    "                    for kernel_row_idx in range(row_in - offset, top_row_bound):\n",
    "                        if kernel_col_idx < 0 or kernel_row_idx < 0 or kernel_col_idx >= in_height or kernel_row_idx >= in_width:\n",
    "                            kernel_count_idx += 1\n",
    "                            continue\n",
    "                \n",
    "                        # Final matrix row index is the relative position inside the input image\n",
    "                        final_matrix_row_idx = (kernel_col_idx * in_width + kernel_row_idx) + (channel_in_idx * in_width * in_height)\n",
    "\n",
    "                        # Final matrix weight indices is the relative position inside the kernel -> kernel_count_idx\n",
    "                        # It has to be across the channels with kadenz of the kernel size\n",
    "                        final_matrix_weight_indices.fill_(0)  # Resetting the tensor to zero\n",
    "                        num_elements_to_fill = (len(final_matrix_weight_indices) - kernel_count_idx) // (kernel_size_kadenz) + 1\n",
    "                        fill_weight_indices = kernel_count_idx + torch.arange(num_elements_to_fill) * (kernel_size_kadenz)\n",
    "                        # Clamp fill_weight_indices to the length of final_matrix_weight_indices to avoid index out of bounds\n",
    "                        fill_weight_indices = fill_weight_indices[fill_weight_indices < len(final_matrix_weight_indices)]\n",
    "                        # Fill in the tensor\n",
    "                        final_matrix_weight_indices[fill_weight_indices] = 1\n",
    "\n",
    "                        weight_mask = final_matrix_weight_indices == 1\n",
    "                        # Select every in_channel'th element\n",
    "                        weight_mask = torch.arange(len(weight_mask))[weight_mask]\n",
    "                        weight_mask = weight_mask[channel_in_idx::in_channels]\n",
    "                        # Fill the matrix\n",
    "                        final_matrix[final_matrix_row_idx, final_matrix_col_indices == 1] = flattened_weights[weight_mask]\n",
    "\n",
    "                        kernel_count_idx += 1\n",
    "    \n",
    "    print(\"My implementation took: \", time.time()-now)\n",
    "    return final_matrix"
   ]
  },
  {
   "cell_type": "code",
   "execution_count": 112,
   "metadata": {},
   "outputs": [
    {
     "name": "stdout",
     "output_type": "stream",
     "text": [
      "torch.Size([2, 2, 3, 3])\n",
      "Output size:  torch.Size([2, 2, 2])\n",
      "Matrix size:  32 8\n"
     ]
    }
   ],
   "source": [
    "in_image = torch.randn(16,14,14)\n",
    "nn = torch.nn.Conv2d(16, 64, 4, padding=1, stride=2)\n",
    "\n",
    "out_image = nn(in_image)\n",
    "out_channels = nn.out_channels\n",
    "in_channels = nn.in_channels\n",
    "in_height = in_image.size(1)\n",
    "in_width = in_image.size(2)\n",
    "kernel_size = nn.kernel_size[0]\n",
    "out_height = out_image.size(1)\n",
    "out_width = out_image.size(2)\n",
    "weights = nn.weight.detach()\n",
    "stride = nn.stride[0]\n",
    "padding = nn.padding[0]\n",
    "bias = nn.bias\n",
    "print(weights.size())\n",
    "print(\"Output size: \", out_image.size())\n",
    "print(\"Matrix size: \", in_width * in_height * in_channels, out_width * out_height * out_channels)"
   ]
  },
  {
   "cell_type": "code",
   "execution_count": 113,
   "metadata": {},
   "outputs": [
    {
     "name": "stdout",
     "output_type": "stream",
     "text": [
      "Their implementation took:  0.001859903335571289\n",
      "kernel size:  3\n",
      "Offset:  1\n",
      "Channel:  0 Top bound height:  3 Top bound width:  3\n",
      "Channel:  0 Col:  1 Row:  1 Column out:  0 Row out:  0\n",
      "Final matrix row idx:  0\n",
      "Final matrix row idx:  1\n",
      "Final matrix row idx:  2\n",
      "Final matrix row idx:  4\n",
      "Final matrix row idx:  5\n",
      "Final matrix row idx:  6\n",
      "Final matrix row idx:  8\n",
      "Final matrix row idx:  9\n",
      "Final matrix row idx:  10\n",
      "Channel:  0 Col:  1 Row:  2 Column out:  0 Row out:  1\n",
      "Final matrix row idx:  1\n",
      "Final matrix row idx:  2\n",
      "Final matrix row idx:  3\n",
      "Final matrix row idx:  5\n",
      "Final matrix row idx:  6\n",
      "Final matrix row idx:  7\n",
      "Final matrix row idx:  9\n",
      "Final matrix row idx:  10\n",
      "Final matrix row idx:  11\n",
      "Channel:  0 Col:  2 Row:  1 Column out:  1 Row out:  0\n",
      "Final matrix row idx:  4\n",
      "Final matrix row idx:  5\n",
      "Final matrix row idx:  6\n",
      "Final matrix row idx:  8\n",
      "Final matrix row idx:  9\n",
      "Final matrix row idx:  10\n",
      "Final matrix row idx:  12\n",
      "Final matrix row idx:  13\n",
      "Final matrix row idx:  14\n",
      "Channel:  0 Col:  2 Row:  2 Column out:  1 Row out:  1\n",
      "Final matrix row idx:  5\n",
      "Final matrix row idx:  6\n",
      "Final matrix row idx:  7\n",
      "Final matrix row idx:  9\n",
      "Final matrix row idx:  10\n",
      "Final matrix row idx:  11\n",
      "Final matrix row idx:  13\n",
      "Final matrix row idx:  14\n",
      "Final matrix row idx:  15\n",
      "Channel:  1 Top bound height:  3 Top bound width:  3\n",
      "Channel:  1 Col:  1 Row:  1 Column out:  0 Row out:  0\n",
      "Final matrix row idx:  16\n",
      "Final matrix row idx:  17\n",
      "Final matrix row idx:  18\n",
      "Final matrix row idx:  20\n",
      "Final matrix row idx:  21\n",
      "Final matrix row idx:  22\n",
      "Final matrix row idx:  24\n",
      "Final matrix row idx:  25\n",
      "Final matrix row idx:  26\n",
      "Channel:  1 Col:  1 Row:  2 Column out:  0 Row out:  1\n",
      "Final matrix row idx:  17\n",
      "Final matrix row idx:  18\n",
      "Final matrix row idx:  19\n",
      "Final matrix row idx:  21\n",
      "Final matrix row idx:  22\n",
      "Final matrix row idx:  23\n",
      "Final matrix row idx:  25\n",
      "Final matrix row idx:  26\n",
      "Final matrix row idx:  27\n",
      "Channel:  1 Col:  2 Row:  1 Column out:  1 Row out:  0\n",
      "Final matrix row idx:  20\n",
      "Final matrix row idx:  21\n",
      "Final matrix row idx:  22\n",
      "Final matrix row idx:  24\n",
      "Final matrix row idx:  25\n",
      "Final matrix row idx:  26\n",
      "Final matrix row idx:  28\n",
      "Final matrix row idx:  29\n",
      "Final matrix row idx:  30\n",
      "Channel:  1 Col:  2 Row:  2 Column out:  1 Row out:  1\n",
      "Final matrix row idx:  21\n",
      "Final matrix row idx:  22\n",
      "Final matrix row idx:  23\n",
      "Final matrix row idx:  25\n",
      "Final matrix row idx:  26\n",
      "Final matrix row idx:  27\n",
      "Final matrix row idx:  29\n",
      "Final matrix row idx:  30\n",
      "Final matrix row idx:  31\n",
      "My implementation took:  0.006972312927246094\n"
     ]
    },
    {
     "data": {
      "text/plain": [
       "True"
      ]
     },
     "execution_count": 113,
     "metadata": {},
     "output_type": "execute_result"
    }
   ],
   "source": [
    "lc = run_their_implementation()\n",
    "lc = lc.transpose(0,1)\n",
    "final_matrix = run_my_implementation()\n",
    "torch.allclose(lc, final_matrix, atol=1e-06, rtol=1e-06)\n",
    "\n",
    "# Find which rows are different\n",
    "# for i in range(len(lc)):\n",
    "#     if not torch.allclose(lc[i], final_matrix[i], atol=1e-06, rtol=1e-06):\n",
    "#         print(\"Row \", i, \" is different\")\n",
    "#         print(\"LC: \", lc[i])\n",
    "#         print(\"Final: \", final_matrix[i])"
   ]
  },
  {
   "cell_type": "code",
   "execution_count": 95,
   "metadata": {},
   "outputs": [
    {
     "data": {
      "text/plain": [
       "torch.Size([16, 18])"
      ]
     },
     "execution_count": 95,
     "metadata": {},
     "output_type": "execute_result"
    }
   ],
   "source": [
    "lc.size()"
   ]
  },
  {
   "cell_type": "code",
   "execution_count": 96,
   "metadata": {},
   "outputs": [
    {
     "data": {
      "text/plain": [
       "torch.Size([16, 18])"
      ]
     },
     "execution_count": 96,
     "metadata": {},
     "output_type": "execute_result"
    }
   ],
   "source": [
    "final_matrix.size()"
   ]
  },
  {
   "cell_type": "code",
   "execution_count": 103,
   "metadata": {},
   "outputs": [
    {
     "data": {
      "text/plain": [
       "tensor([ 0.0771,  0.0000,  0.0000,  0.1532,  0.0000,  0.0000,  0.0000,  0.0000,\n",
       "         0.0000, -0.3893,  0.0000,  0.0000,  0.2367,  0.0000,  0.0000,  0.0000,\n",
       "         0.0000,  0.0000])"
      ]
     },
     "execution_count": 103,
     "metadata": {},
     "output_type": "execute_result"
    }
   ],
   "source": [
    "final_matrix[3]"
   ]
  },
  {
   "cell_type": "code",
   "execution_count": 104,
   "metadata": {},
   "outputs": [
    {
     "data": {
      "text/plain": [
       "tensor([ 0.0771,  0.0000,  0.0000,  0.1532,  0.0000,  0.0000,  0.0000,  0.0000,\n",
       "         0.0000, -0.3893,  0.0000,  0.0000,  0.2367,  0.0000,  0.0000,  0.0000,\n",
       "         0.0000,  0.0000])"
      ]
     },
     "execution_count": 104,
     "metadata": {},
     "output_type": "execute_result"
    }
   ],
   "source": [
    "lc[3]"
   ]
  },
  {
   "cell_type": "code",
   "execution_count": 46,
   "metadata": {},
   "outputs": [
    {
     "data": {
      "text/plain": [
       "tensor([ 0.2414,  0.0328,  0.0840,  0.1218, -0.0303, -0.1360, -0.0209,  0.0347,\n",
       "        -0.0776,  0.1350,  0.0608,  0.2054,  0.2260, -0.0920,  0.1001,  0.0320,\n",
       "         0.1944, -0.2222, -0.1359, -0.0866,  0.0855, -0.1493,  0.1561,  0.1355,\n",
       "        -0.2109,  0.1817, -0.1664, -0.0834,  0.1701,  0.1444,  0.0270,  0.1022])"
      ]
     },
     "execution_count": 46,
     "metadata": {},
     "output_type": "execute_result"
    }
   ],
   "source": [
    "weights.flatten()"
   ]
  },
  {
   "cell_type": "code",
   "execution_count": 303,
   "metadata": {},
   "outputs": [
    {
     "data": {
      "text/plain": [
       "tensor([-0.1110,  0.1750, -0.0280, -0.1190,  0.1040,  0.2290, -0.1070,  0.0580,\n",
       "        -0.1630,  0.0610, -0.1210,  0.2310, -0.0050,  0.1360,  0.0930,  0.1820,\n",
       "        -0.0690, -0.0980,  0.1880,  0.1880,  0.0360,  0.1740, -0.0710,  0.1190,\n",
       "         0.2290, -0.1090, -0.0620, -0.0430,  0.1360, -0.1790, -0.0440, -0.0660,\n",
       "        -0.1650, -0.0590,  0.0040,  0.1840,  0.1790, -0.0890, -0.0310,  0.1200,\n",
       "        -0.1570, -0.2080, -0.1040, -0.1940, -0.1690,  0.1290, -0.0350, -0.0760,\n",
       "         0.1770, -0.2070, -0.1460, -0.1580,  0.1880, -0.1750])"
      ]
     },
     "execution_count": 303,
     "metadata": {},
     "output_type": "execute_result"
    }
   ],
   "source": [
    "torch.round(weights.flatten() * 1000) / 1000"
   ]
  },
  {
   "cell_type": "code",
   "execution_count": 222,
   "metadata": {},
   "outputs": [
    {
     "data": {
      "text/plain": [
       "tensor([ True, False,  True, False,  True, False])"
      ]
     },
     "execution_count": 222,
     "metadata": {},
     "output_type": "execute_result"
    }
   ],
   "source": [
    "final_matrix_weight_indices = torch.tensor([-0.0289, -0.1273,  0.0912,  0.1214, -0.1635,  0.0009])\n",
    "torch.arange(len(final_matrix_weight_indices  == 1)) % in_channels == 0"
   ]
  },
  {
   "cell_type": "code",
   "execution_count": null,
   "metadata": {},
   "outputs": [],
   "source": []
  }
 ],
 "metadata": {
  "kernelspec": {
   "display_name": "reliable",
   "language": "python",
   "name": "python3"
  },
  "language_info": {
   "codemirror_mode": {
    "name": "ipython",
    "version": 3
   },
   "file_extension": ".py",
   "mimetype": "text/x-python",
   "name": "python",
   "nbconvert_exporter": "python",
   "pygments_lexer": "ipython3",
   "version": "3.10.10"
  }
 },
 "nbformat": 4,
 "nbformat_minor": 2
}
